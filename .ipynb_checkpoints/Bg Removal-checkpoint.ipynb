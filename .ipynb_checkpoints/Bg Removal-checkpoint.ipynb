{
 "cells": [
  {
   "cell_type": "code",
   "execution_count": 1,
   "metadata": {},
   "outputs": [],
   "source": [
    "# Load image\n",
    "import cv2\n",
    "import numpy as np\n",
    "from matplotlib import pyplot as plt"
   ]
  },
  {
   "cell_type": "code",
   "execution_count": 2,
   "metadata": {},
   "outputs": [],
   "source": [
    "image_bgr = cv2.imread('images/il_340x270.1198995192_7zar.jpg')\n"
   ]
  },
  {
   "cell_type": "code",
   "execution_count": 3,
   "metadata": {},
   "outputs": [],
   "source": [
    "image_rgb = cv2.cvtColor(image_bgr, cv2.COLOR_BGR2RGB)\n"
   ]
  },
  {
   "cell_type": "code",
   "execution_count": 4,
   "metadata": {},
   "outputs": [],
   "source": [
    "rectangle = (0, 56, 256, 150)"
   ]
  },
  {
   "cell_type": "code",
   "execution_count": 5,
   "metadata": {},
   "outputs": [],
   "source": [
    "# Create initial mask\n",
    "mask = np.zeros(image_rgb.shape[:2], np.uint8)\n",
    "\n",
    "# Create temporary arrays used by grabCut\n",
    "bgdModel = np.zeros((1, 65), np.float64)\n",
    "fgdModel = np.zeros((1, 65), np.float64)\n",
    "\n",
    "# Run grabCut\n",
    "cv2.grabCut(image_rgb, # Our image\n",
    "            mask, # The Mask\n",
    "            rectangle, # Our rectangle\n",
    "            bgdModel, # Temporary array for background\n",
    "            fgdModel, # Temporary array for background\n",
    "            5, # Number of iterations\n",
    "            cv2.GC_INIT_WITH_RECT) # Initiative using our rectangle\n",
    "\n",
    "# Create mask where sure and likely backgrounds set to 0, otherwise 1\n",
    "mask_2 = np.where((mask==2) | (mask==0), 0, 1).astype('uint8')\n",
    "\n",
    "# Multiply image with new mask to subtract background\n",
    "image_rgb_nobg = image_rgb * mask_2[:, :, np.newaxis]"
   ]
  },
  {
   "cell_type": "code",
   "execution_count": 6,
   "metadata": {},
   "outputs": [
    {
     "data": {
      "image/png": "[encoded data removed]",
      "text/plain": [
       "<Figure size 432x288 with 1 Axes>"
      ]
     },
     "metadata": {
      "needs_background": "light"
     },
     "output_type": "display_data"
    }
   ],
   "source": [
    "# Show image\n",
    "plt.imshow(image_rgb_nobg), plt.axis(\"off\")\n",
    "plt.show()"
   ]
  },
  {
   "cell_type": "code",
   "execution_count": null,
   "metadata": {},
   "outputs": [],
   "source": []
  },
  {
   "cell_type": "code",
   "execution_count": null,
   "metadata": {},
   "outputs": [],
   "source": []
  },
  {
   "cell_type": "code",
   "execution_count": null,
   "metadata": {},
   "outputs": [],
   "source": [
    "import numpy as np\n",
    "import cv2\n",
    "\n",
    "cv2.namedWindow('image', cv2.WINDOW_NORMAL)\n",
    "\n",
    "#Load the Image\n",
    "imgo = cv2.imread('images/il_340x270.1198995192_7zar.jpg')\n",
    "height, width = imgo.shape[:2]\n",
    "\n",
    "#Create a mask holder\n",
    "mask = np.zeros(imgo.shape[:2],np.uint8)\n",
    "\n",
    "#Grab Cut the object\n",
    "bgdModel = np.zeros((1,65),np.float64)\n",
    "fgdModel = np.zeros((1,65),np.float64)\n",
    "\n",
    "#Hard Coding the Rect… The object must lie within this rect.\n",
    "rect = (10,10,width-30,height-30)\n",
    "cv2.grabCut(imgo,mask,rect,bgdModel,fgdModel,5,cv2.GC_INIT_WITH_RECT)\n",
    "mask = np.where((mask==2)|(mask==0),0,1).astype('uint8')\n",
    "img1 = imgo*mask[:,:,np.newaxis]\n",
    "\n",
    "#Get the background\n",
    "background = imgo - img1\n",
    "\n",
    "#Change all pixels in the background that are not black to white\n",
    "background[np.where((background > [0,0,0]).all(axis = 2))] = [255,255,255]\n",
    "\n",
    "#Add the background and the image\n",
    "final = background + img1\n",
    "\n",
    "#To be done – Smoothening the edges….\n",
    "cv2.imwrite(f'imgresults/cutout.jpg', final)\n",
    "cv2.imshow('image', final )\n",
    "\n",
    "k = cv2.waitKey(0)\n",
    "\n",
    "if k==27:\n",
    "    cv2.destroyAllWindows()"
   ]
  },
  {
   "cell_type": "code",
   "execution_count": null,
   "metadata": {},
   "outputs": [],
   "source": []
  }
 ],
 "metadata": {
  "kernelspec": {
   "display_name": "TensorFlow",
   "language": "python",
   "name": "tensorflow"
  },
  "language_info": {
   "codemirror_mode": {
    "name": "ipython",
    "version": 3
   },
   "file_extension": ".py",
   "mimetype": "text/x-python",
   "name": "python",
   "nbconvert_exporter": "python",
   "pygments_lexer": "ipython3",
   "version": "3.6.10"
  }
 },
 "nbformat": 4,
 "nbformat_minor": 4
}
