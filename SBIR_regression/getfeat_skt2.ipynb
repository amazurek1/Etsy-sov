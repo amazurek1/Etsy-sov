{
 "cells": [
  {
   "cell_type": "code",
   "execution_count": 2,
   "metadata": {},
   "outputs": [],
   "source": [
    "#!/usr/bin/env python2\n",
    "# -*- coding: utf-8 -*-\n",
    "\"\"\"\n",
    "Created on Mon Sep 11 22:52:51 2017\n",
    "@author: Tu Bui tb00083@surrey.ac.uk\n",
    "\"\"\"\n",
    "\n",
    "import sys,os\n",
    "from PIL import Image\n",
    "import StringIO\n",
    "import math\n",
    "import subprocess\n",
    "import caffe\n",
    "import numpy as np\n",
    "from sklearn.metrics import confusion_matrix\n",
    "from scipy.io import savemat\n",
    "import time\n",
    "from class_utils import sketch_process\n",
    "from os import listdir\n",
    "from os.path import isfile, join\n",
    "import os\n",
    "\n",
    "MODEL_WEIGHTS_PATH = 'model/triplet1_InceptionV1_InceptionV1_halfshare_inception4e_ld256_triplet_sketchy_iter_31200.caffemodel'\n",
    "MODEL_SPEC_PATH = 'model/deploy_sketch_net1_InceptionV1_InceptionV1_halfshare_inception4e_ld256_triplet_sketchy.prototxt'\n",
    "\n",
    "\n",
    "\n",
    "GPU_DEV = 0\n",
    "LAYER_DIMS=256\n",
    "mean_pixel = np.array([104, 117, 123],dtype=np.float32)[:,None,None]\n",
    "skt_preprocess = sketch_process(shape = (224,224))\n",
    "\n",
    "def get_net(caffemodel, deploy_file, use_gpu=True):\n",
    "    \"\"\"\n",
    "    Returns an instance of caffe.Net\n",
    "    Arguments:\n",
    "    caffemodel -- path to a .caffemodel file\n",
    "    deploy_file -- path to a .prototxt file\n",
    "    Keyword arguments:\n",
    "    use_gpu -- if True, use the GPU for inference\n",
    "    \"\"\"\n",
    "    if use_gpu:\n",
    "        caffe.set_mode_gpu()\n",
    "        caffe.set_device(GPU_DEV)\n",
    "\n",
    "    # load a new model\n",
    "    return caffe.Net(deploy_file, caffe.TEST, weights = caffemodel)\n",
    "\n",
    "\n",
    "def extractitem(net, mean_pixel, fname):\n",
    "  \n",
    "    DATA_LAYER = net.inputs[0]\n",
    "    net.blobs[DATA_LAYER].reshape(1,3,224,224) \n",
    "    try:\n",
    "       skt_preprocess.read_query(fname)\n",
    "       input_image = skt_preprocess.process()\n",
    "       sys.stdout.flush()\n",
    "       net.blobs[DATA_LAYER].data[...] = input_image\n",
    "       sys.stdout.flush()\n",
    "       _ = net.forward()\n",
    "       sys.stdout.flush()\n",
    "       blobname=net.blobs.keys()[-1] #should be feat_p for image and feat_a for sketch\n",
    "       prediction = net.blobs[blobname].data.squeeze()\n",
    "    \n",
    "    \n",
    "    except Exception as e:\n",
    "       s=str(e)\n",
    "       print('WARNING: Image was unusable %s' % fname)\n",
    "       print(s)\n",
    "       prediction = np.zeros(LAYER_DIMS).astype(np.float32)\n",
    "    \n",
    "    return prediction\n",
    "\n",
    "onlyfiles = [f for f in listdir('test_sketches') if isfile(join('test_sketches', f)) and (f.endswith(\".jpg\") or f.endswith(\".png\"))]\n",
    "\n",
    "for file in onlyfiles:\n",
    "    if __name__ == \"__main__\":\n",
    "        net = get_net(MODEL_WEIGHTS_PATH, MODEL_SPEC_PATH)\n",
    "        sample_img = 'test_sketches/{}'.format(file)\n",
    "        feat = extractitem(net, mean_pixel, sample_img)\n",
    "        np.save(os.path.join('test_sketches','{}_np'.format(file)), feat)"
   ]
  },
  {
   "cell_type": "code",
   "execution_count": 8,
   "metadata": {},
   "outputs": [],
   "source": [
    "arr=np.load(\"test_sketches/lamp_sketch.png_np.npy\")"
   ]
  },
  {
   "cell_type": "code",
   "execution_count": 9,
   "metadata": {},
   "outputs": [
    {
     "data": {
      "text/plain": [
       "array([-2.79607102e-02,  1.22701284e-02, -7.89127592e-03,  9.68552567e-03,\n",
       "        4.01844196e-02, -2.12249309e-02,  3.68916728e-02,  7.94794261e-02,\n",
       "        1.05616804e-02,  7.20906779e-02,  3.62281352e-02,  1.55063793e-02,\n",
       "        5.32694533e-02,  1.20052071e-02,  3.19613852e-02, -3.80153470e-02,\n",
       "       -2.16636628e-01, -6.24275804e-02, -1.05238207e-01,  3.82965319e-02,\n",
       "       -7.49286562e-02, -2.40361243e-02, -4.03375663e-02,  4.13139686e-02,\n",
       "       -7.55376294e-02, -1.48129523e-01,  8.01190808e-02, -1.42297586e-02,\n",
       "       -2.65377648e-02, -2.73041101e-03,  5.86485937e-02, -5.28896712e-02,\n",
       "        9.54739451e-02, -4.24248204e-02,  4.81254829e-05, -4.51578200e-02,\n",
       "       -3.57111208e-02, -1.20947920e-02,  3.15327309e-02,  9.84562039e-02,\n",
       "        1.54271349e-01, -1.00733386e-02, -5.85412793e-02, -4.86913882e-02,\n",
       "        5.95415197e-02,  5.36461920e-02, -5.90119995e-02,  6.14108592e-02,\n",
       "       -1.50174662e-01, -8.21175501e-02, -3.83423381e-02,  4.94870283e-02,\n",
       "       -7.80253932e-02, -2.07978822e-02,  9.91451181e-03, -7.13037103e-02,\n",
       "       -6.94007566e-03,  7.17010126e-02,  9.46581736e-03, -5.97976632e-02,\n",
       "       -6.58232421e-02, -3.64656076e-02, -3.76029052e-02,  3.27852294e-02,\n",
       "       -1.99271943e-02,  7.13063963e-03,  4.41301465e-02, -9.39040557e-02,\n",
       "       -1.90252643e-02, -4.89237867e-02, -2.02543773e-02, -1.15331911e-01,\n",
       "       -7.21205845e-02, -6.95781037e-02,  5.49499802e-02, -1.68514892e-01,\n",
       "       -1.10598028e-01, -7.31859803e-02, -8.75746384e-02, -7.81655088e-02,\n",
       "       -3.58196907e-02, -7.38920867e-02, -1.50261121e-02,  1.14745451e-02,\n",
       "        2.68037096e-02, -6.52908534e-02,  2.77446788e-02,  3.72936018e-02,\n",
       "       -4.51137237e-02,  8.36590677e-03, -9.59821492e-02,  8.50082859e-02,\n",
       "       -9.80734229e-02, -4.33573276e-02,  8.16718638e-02,  9.84584466e-02,\n",
       "        5.26125059e-02, -8.79986491e-03, -1.07231677e-01, -6.74540251e-02,\n",
       "       -8.98532644e-02, -6.02645166e-02, -7.53877237e-02, -1.23071156e-01,\n",
       "       -4.55711829e-03,  8.23779684e-03,  3.47127393e-02, -4.87760268e-02,\n",
       "        1.45810813e-01,  1.31299039e-02,  1.12893023e-02,  7.08601773e-02,\n",
       "       -2.19855234e-02, -6.09472357e-02,  8.24063793e-02,  1.97163764e-02,\n",
       "       -5.70777766e-02, -1.94645915e-02, -5.61213009e-02, -5.87584786e-02,\n",
       "        9.93484855e-02, -8.63917265e-03, -1.40959246e-03, -4.99203056e-02,\n",
       "       -4.39687492e-03,  1.88773684e-03,  1.06020868e-01, -1.05011584e-02,\n",
       "        8.50272551e-02,  9.79515258e-03,  2.31200640e-04,  2.13081250e-03,\n",
       "        6.74963593e-02,  4.49446030e-02,  1.74133386e-02, -1.60187893e-02,\n",
       "        2.17609573e-02, -6.27284078e-03,  1.94400083e-02,  6.78595081e-02,\n",
       "       -1.47153631e-01, -8.04551393e-02,  3.09415050e-02,  5.27474545e-02,\n",
       "       -6.98973909e-02,  1.62565872e-01, -5.13875857e-03, -8.13487321e-02,\n",
       "        9.92091559e-03,  8.45823586e-02,  1.18025253e-03,  7.49508059e-03,\n",
       "        1.17452621e-01,  4.26962413e-02,  2.82595791e-02,  2.51149815e-02,\n",
       "        7.59457946e-02, -6.35312423e-02,  3.94009203e-02, -8.61927345e-02,\n",
       "       -1.27022743e-01, -7.36943185e-02, -1.82413068e-02, -6.68725893e-02,\n",
       "        2.71999594e-02, -8.34251642e-02,  2.17160266e-02, -4.74418467e-03,\n",
       "       -8.77241343e-02,  6.31851554e-02, -9.90309864e-02, -1.42241316e-02,\n",
       "       -3.98326144e-02, -5.70757054e-02, -2.03680135e-02, -7.04082614e-03,\n",
       "        1.74495559e-02,  4.53320667e-02,  1.10733137e-01, -6.12106621e-02,\n",
       "        4.10207473e-02,  8.13179612e-02,  8.66285861e-02, -5.29121384e-02,\n",
       "       -3.93149257e-02,  3.72492895e-02, -5.43107744e-03, -6.34075655e-03,\n",
       "       -1.36791810e-01, -8.75459388e-02, -7.10525690e-03,  9.13923308e-02,\n",
       "       -6.60994649e-02,  2.72185495e-03, -1.39353778e-02, -1.94412060e-02,\n",
       "        7.81220198e-02, -2.77883913e-02, -1.84453633e-02, -9.07606184e-02,\n",
       "       -1.08113640e-03, -1.92071572e-02, -1.47872679e-02, -7.06621585e-03,\n",
       "        3.26455534e-02,  3.77176851e-02,  2.27339175e-02, -6.27816841e-02,\n",
       "        5.70653286e-03, -3.72044742e-02,  3.08692222e-03,  3.80290002e-02,\n",
       "       -5.76308481e-02,  4.04593386e-02, -1.72698181e-02, -6.55765980e-02,\n",
       "       -2.15301476e-02,  9.23343673e-02,  6.42743558e-02,  2.44285315e-02,\n",
       "       -1.15065493e-01,  1.23670558e-02,  1.04356594e-01, -5.27100228e-02,\n",
       "        4.37201336e-02, -3.48075069e-02, -8.34203959e-02,  5.74672781e-02,\n",
       "       -2.34838966e-02, -5.00363484e-03,  9.69292969e-02,  8.32456574e-02,\n",
       "       -6.10422269e-02, -2.16188598e-02,  8.64182115e-02, -2.85032690e-02,\n",
       "       -9.61568765e-03, -7.36802667e-02, -2.34891046e-02, -7.07374439e-02,\n",
       "       -2.47286707e-02,  3.11475229e-02, -4.69835289e-02,  6.95499703e-02,\n",
       "        7.58821070e-02,  3.78414802e-02,  1.08836286e-01, -1.92255639e-02,\n",
       "       -5.89912198e-02, -6.33833511e-03,  1.30676888e-02, -5.24092503e-02,\n",
       "        7.76656624e-03,  4.01176438e-02, -3.57810594e-03,  6.06507957e-02],\n",
       "      dtype=float32)"
      ]
     },
     "execution_count": 9,
     "metadata": {},
     "output_type": "execute_result"
    }
   ],
   "source": [
    "arr"
   ]
  },
  {
   "cell_type": "code",
   "execution_count": 1,
   "metadata": {},
   "outputs": [],
   "source": [
    "apple = 'pizza'"
   ]
  },
  {
   "cell_type": "code",
   "execution_count": 5,
   "metadata": {},
   "outputs": [
    {
     "data": {
      "text/plain": [
       "'pizz'"
      ]
     },
     "execution_count": 5,
     "metadata": {},
     "output_type": "execute_result"
    }
   ],
   "source": [
    "apple[0:-1]"
   ]
  },
  {
   "cell_type": "code",
   "execution_count": null,
   "metadata": {},
   "outputs": [],
   "source": []
  }
 ],
 "metadata": {
  "kernelspec": {
   "display_name": "Python 2",
   "language": "python",
   "name": "python2"
  },
  "language_info": {
   "codemirror_mode": {
    "name": "ipython",
    "version": 2
   },
   "file_extension": ".py",
   "mimetype": "text/x-python",
   "name": "python",
   "nbconvert_exporter": "python",
   "pygments_lexer": "ipython2",
   "version": "2.7.12"
  }
 },
 "nbformat": 4,
 "nbformat_minor": 2
}
