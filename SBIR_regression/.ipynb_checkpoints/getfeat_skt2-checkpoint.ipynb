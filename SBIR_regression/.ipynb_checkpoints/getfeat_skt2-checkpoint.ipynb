{
 "cells": [
  {
   "cell_type": "code",
   "execution_count": 1,
   "metadata": {},
   "outputs": [
    {
     "name": "stdout",
     "output_type": "stream",
     "text": [
      "WARNING: Image was unusable test_sketches/<type 'file'>\n",
      "[Errno 2] No such file or directory: \"test_sketches/<type 'file'>\"\n"
     ]
    }
   ],
   "source": [
    "#!/usr/bin/env python2\n",
    "# -*- coding: utf-8 -*-\n",
    "\"\"\"\n",
    "Created on Mon Sep 11 22:52:51 2017\n",
    "@author: Tu Bui tb00083@surrey.ac.uk\n",
    "\"\"\"\n",
    "\n",
    "import sys,os\n",
    "from PIL import Image\n",
    "import StringIO\n",
    "import math\n",
    "import subprocess\n",
    "import caffe\n",
    "import numpy as np\n",
    "from sklearn.metrics import confusion_matrix\n",
    "from scipy.io import savemat\n",
    "import time\n",
    "from class_utils import sketch_process\n",
    "from os import listdir\n",
    "from os.path import isfile, join\n",
    "import os\n",
    "\n",
    "MODEL_WEIGHTS_PATH = 'model/triplet1_InceptionV1_InceptionV1_halfshare_inception4e_ld256_triplet_sketchy_iter_31200.caffemodel'\n",
    "MODEL_SPEC_PATH = 'model/deploy_sketch_net1_InceptionV1_InceptionV1_halfshare_inception4e_ld256_triplet_sketchy.prototxt'\n",
    "\n",
    "\n",
    "\n",
    "GPU_DEV = 0\n",
    "LAYER_DIMS=256\n",
    "mean_pixel = np.array([104, 117, 123],dtype=np.float32)[:,None,None]\n",
    "skt_preprocess = sketch_process(shape = (224,224))\n",
    "\n",
    "def get_net(caffemodel, deploy_file, use_gpu=True):\n",
    "    \"\"\"\n",
    "    Returns an instance of caffe.Net\n",
    "    Arguments:\n",
    "    caffemodel -- path to a .caffemodel file\n",
    "    deploy_file -- path to a .prototxt file\n",
    "    Keyword arguments:\n",
    "    use_gpu -- if True, use the GPU for inference\n",
    "    \"\"\"\n",
    "    if use_gpu:\n",
    "        caffe.set_mode_gpu()\n",
    "        caffe.set_device(GPU_DEV)\n",
    "\n",
    "    # load a new model\n",
    "    return caffe.Net(deploy_file, caffe.TEST, weights = caffemodel)\n",
    "\n",
    "\n",
    "def extractitem(net, mean_pixel, fname):\n",
    "  \n",
    "    DATA_LAYER = net.inputs[0]\n",
    "    net.blobs[DATA_LAYER].reshape(1,3,224,224) \n",
    "    try:\n",
    "       skt_preprocess.read_query(fname)\n",
    "       input_image = skt_preprocess.process()\n",
    "       sys.stdout.flush()\n",
    "       net.blobs[DATA_LAYER].data[...] = input_image\n",
    "       sys.stdout.flush()\n",
    "       _ = net.forward()\n",
    "       sys.stdout.flush()\n",
    "       blobname=net.blobs.keys()[-1] #should be feat_p for image and feat_a for sketch\n",
    "       prediction = net.blobs[blobname].data.squeeze()\n",
    "    \n",
    "    \n",
    "    except Exception as e:\n",
    "       s=str(e)\n",
    "       print('WARNING: Image was unusable %s' % fname)\n",
    "       print(s)\n",
    "       prediction = np.zeros(LAYER_DIMS).astype(np.float32)\n",
    "    \n",
    "    return prediction\n",
    "\n",
    "onlyfiles = [f for f in listdir('test_sketches') if isfile(join('test_sketches', f)) and (f.endswith(\".jpg\") or f.endswith(\".png\"))]\n",
    "\n",
    "for file in onlyfiles:\n",
    "    if __name__ == \"__main__\":\n",
    "        net = get_net(MODEL_WEIGHTS_PATH, MODEL_SPEC_PATH)\n",
    "        sample_img = 'test_sketches/{}'.format(file)\n",
    "        feat = extractitem(net, mean_pixel, sample_img)\n",
    "        np.save(os.path.join('test_sketches','{}_np'.format(file)), feat)"
   ]
  },
  {
   "cell_type": "code",
   "execution_count": 4,
   "metadata": {},
   "outputs": [
    {
     "ename": "IOError",
     "evalue": "[Errno 2] No such file or directory: 'file_np.npy'",
     "output_type": "error",
     "traceback": [
      "\u001b[0;31m---------------------------------------------------------------------------\u001b[0m",
      "\u001b[0;31mIOError\u001b[0m                                   Traceback (most recent call last)",
      "\u001b[0;32m<ipython-input-4-8ebf921ef306>\u001b[0m in \u001b[0;36m<module>\u001b[0;34m()\u001b[0m\n\u001b[0;32m----> 1\u001b[0;31m \u001b[0marr\u001b[0m\u001b[0;34m=\u001b[0m\u001b[0mnp\u001b[0m\u001b[0;34m.\u001b[0m\u001b[0mload\u001b[0m\u001b[0;34m(\u001b[0m\u001b[0;34m\"file_np.npy\"\u001b[0m\u001b[0;34m)\u001b[0m\u001b[0;34m\u001b[0m\u001b[0m\n\u001b[0m",
      "\u001b[0;32m/usr/local/lib/python2.7/dist-packages/numpy/lib/npyio.pyc\u001b[0m in \u001b[0;36mload\u001b[0;34m(file, mmap_mode, allow_pickle, fix_imports, encoding)\u001b[0m\n\u001b[1;32m    420\u001b[0m         \u001b[0mown_fid\u001b[0m \u001b[0;34m=\u001b[0m \u001b[0mFalse\u001b[0m\u001b[0;34m\u001b[0m\u001b[0m\n\u001b[1;32m    421\u001b[0m     \u001b[0;32melse\u001b[0m\u001b[0;34m:\u001b[0m\u001b[0;34m\u001b[0m\u001b[0m\n\u001b[0;32m--> 422\u001b[0;31m         \u001b[0mfid\u001b[0m \u001b[0;34m=\u001b[0m \u001b[0mopen\u001b[0m\u001b[0;34m(\u001b[0m\u001b[0mos_fspath\u001b[0m\u001b[0;34m(\u001b[0m\u001b[0mfile\u001b[0m\u001b[0;34m)\u001b[0m\u001b[0;34m,\u001b[0m \u001b[0;34m\"rb\"\u001b[0m\u001b[0;34m)\u001b[0m\u001b[0;34m\u001b[0m\u001b[0m\n\u001b[0m\u001b[1;32m    423\u001b[0m         \u001b[0mown_fid\u001b[0m \u001b[0;34m=\u001b[0m \u001b[0mTrue\u001b[0m\u001b[0;34m\u001b[0m\u001b[0m\n\u001b[1;32m    424\u001b[0m \u001b[0;34m\u001b[0m\u001b[0m\n",
      "\u001b[0;31mIOError\u001b[0m: [Errno 2] No such file or directory: 'file_np.npy'"
     ]
    }
   ],
   "source": [
    "arr=np.load(\"file_np.npy\")"
   ]
  },
  {
   "cell_type": "code",
   "execution_count": null,
   "metadata": {},
   "outputs": [],
   "source": []
  }
 ],
 "metadata": {
  "kernelspec": {
   "display_name": "Python 2",
   "language": "python",
   "name": "python2"
  },
  "language_info": {
   "codemirror_mode": {
    "name": "ipython",
    "version": 2
   },
   "file_extension": ".py",
   "mimetype": "text/x-python",
   "name": "python",
   "nbconvert_exporter": "python",
   "pygments_lexer": "ipython2",
   "version": "2.7.12"
  }
 },
 "nbformat": 4,
 "nbformat_minor": 2
}
